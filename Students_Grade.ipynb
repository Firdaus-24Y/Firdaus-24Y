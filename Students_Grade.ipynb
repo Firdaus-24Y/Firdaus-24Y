{
  "nbformat": 4,
  "nbformat_minor": 0,
  "metadata": {
    "colab": {
      "provenance": [],
      "authorship_tag": "ABX9TyP6dvcg+wWOvTFkx//IdrT8",
      "include_colab_link": true
    },
    "kernelspec": {
      "name": "python3",
      "display_name": "Python 3"
    },
    "language_info": {
      "name": "python"
    }
  },
  "cells": [
    {
      "cell_type": "markdown",
      "metadata": {
        "id": "view-in-github",
        "colab_type": "text"
      },
      "source": [
        "<a href=\"https://colab.research.google.com/github/Firdaus-24Y/Firdaus-24Y/blob/main/Students_Grade.ipynb\" target=\"_parent\"><img src=\"https://colab.research.google.com/assets/colab-badge.svg\" alt=\"Open In Colab\"/></a>"
      ]
    },
    {
      "cell_type": "code",
      "source": [
        "!git clone https://github.com/Firdaus-24Y/introduction-to-python.git"
      ],
      "metadata": {
        "colab": {
          "base_uri": "https://localhost:8080/"
        },
        "id": "PIe-2TpOJvYZ",
        "outputId": "8ba3aee0-9390-4448-a50e-7d01b8c0cfa3"
      },
      "execution_count": 2,
      "outputs": [
        {
          "output_type": "stream",
          "name": "stdout",
          "text": [
            "Cloning into 'introduction-to-python'...\n",
            "fatal: could not read Username for 'https://github.com': No such device or address\n"
          ]
        }
      ]
    },
    {
      "cell_type": "code",
      "execution_count": null,
      "metadata": {
        "colab": {
          "base_uri": "https://localhost:8080/"
        },
        "id": "vRadd1o3vFAO",
        "outputId": "85b90851-9bae-470e-a011-45550f009331"
      },
      "outputs": [
        {
          "output_type": "stream",
          "name": "stdout",
          "text": [
            "Enter Marks Obtained in 5 Subjects: \n",
            "65\n",
            "80\n",
            "45\n",
            "73\n",
            "50\n",
            "Your Grade is C\n"
          ]
        }
      ],
      "source": [
        "print(\"Enter Marks Obtained in 5 Subjects: \")\n",
        "Mathemetic = int(input())\n",
        "English = int(input())\n",
        "Bngla = int(input())\n",
        "Physicse = int(input())\n",
        "Chemestry = int(input())\n",
        "\n",
        "tot = Mathemetic + English + Bngla + Physicse + Chemestry\n",
        "avg = tot/5\n",
        "\n",
        "if avg>=90 and avg<=100:\n",
        "  print(\"Your Grade is A+\")\n",
        "elif avg>=80 and avg<90:\n",
        "  print(\"Your Grade is A\")\n",
        "elif avg>=70 and avg<80:\n",
        "  print(\"Your Grade is B\")\n",
        "elif avg>=60 and avg<70:\n",
        "  print(\"Your Grade is C\")\n",
        "elif avg>=50 and avg<60:\n",
        "  print(\"Your Grade is F\")"
      ]
    },
    {
      "cell_type": "code",
      "source": [],
      "metadata": {
        "id": "_uMNEEyk7pZn"
      },
      "execution_count": null,
      "outputs": []
    },
    {
      "cell_type": "markdown",
      "source": [],
      "metadata": {
        "id": "f-OriKOBvaEi"
      }
    }
  ]
}